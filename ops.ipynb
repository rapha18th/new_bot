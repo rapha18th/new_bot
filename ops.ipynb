{
 "cells": [
  {
   "cell_type": "code",
   "execution_count": 7,
   "metadata": {},
   "outputs": [],
   "source": [
    "import pandas as pd"
   ]
  },
  {
   "cell_type": "code",
   "execution_count": 8,
   "metadata": {},
   "outputs": [],
   "source": [
    "df = pd.read_csv(\"adc.csv\")"
   ]
  },
  {
   "cell_type": "code",
   "execution_count": 9,
   "metadata": {},
   "outputs": [
    {
     "data": {
      "text/html": [
       "<div>\n",
       "<style scoped>\n",
       "    .dataframe tbody tr th:only-of-type {\n",
       "        vertical-align: middle;\n",
       "    }\n",
       "\n",
       "    .dataframe tbody tr th {\n",
       "        vertical-align: top;\n",
       "    }\n",
       "\n",
       "    .dataframe thead th {\n",
       "        text-align: right;\n",
       "    }\n",
       "</style>\n",
       "<table border=\"1\" class=\"dataframe\">\n",
       "  <thead>\n",
       "    <tr style=\"text-align: right;\">\n",
       "      <th></th>\n",
       "      <th>Rep Code</th>\n",
       "      <th>Route</th>\n",
       "      <th>Customer Code</th>\n",
       "      <th>Customer Name</th>\n",
       "      <th>SalesX</th>\n",
       "      <th>Sale</th>\n",
       "      <th>Lgsale</th>\n",
       "      <th>GP</th>\n",
       "      <th>GPX</th>\n",
       "      <th>Loggp</th>\n",
       "      <th>GppeX</th>\n",
       "      <th>Gpperc</th>\n",
       "      <th>Month</th>\n",
       "    </tr>\n",
       "  </thead>\n",
       "  <tbody>\n",
       "    <tr>\n",
       "      <th>0</th>\n",
       "      <td>RAJEN</td>\n",
       "      <td>Collection</td>\n",
       "      <td>GND-01</td>\n",
       "      <td>GININDA CC T/A GND CATERING SERVICES</td>\n",
       "      <td>0</td>\n",
       "      <td>2.718282</td>\n",
       "      <td>1.000000</td>\n",
       "      <td>1.00</td>\n",
       "      <td>0</td>\n",
       "      <td>0.000000</td>\n",
       "      <td>-</td>\n",
       "      <td>0.000000</td>\n",
       "      <td>April</td>\n",
       "    </tr>\n",
       "    <tr>\n",
       "      <th>1</th>\n",
       "      <td>RAJEN</td>\n",
       "      <td>Richards Bay</td>\n",
       "      <td>SAA-04</td>\n",
       "      <td>121 SAI BN COMBINED CLUB</td>\n",
       "      <td>30311</td>\n",
       "      <td>30311.000000</td>\n",
       "      <td>10.319266</td>\n",
       "      <td>6988.63</td>\n",
       "      <td>6988.63</td>\n",
       "      <td>8.852040</td>\n",
       "      <td>0.2305641516281218</td>\n",
       "      <td>0.230564</td>\n",
       "      <td>April</td>\n",
       "    </tr>\n",
       "    <tr>\n",
       "      <th>2</th>\n",
       "      <td>RAJEN</td>\n",
       "      <td>Local</td>\n",
       "      <td>THR-02</td>\n",
       "      <td>3 ON LUMSDEN (PTY) LTD (EMAKHOSINI )</td>\n",
       "      <td>0</td>\n",
       "      <td>2.718282</td>\n",
       "      <td>1.000000</td>\n",
       "      <td>1.00</td>\n",
       "      <td>-</td>\n",
       "      <td>0.000000</td>\n",
       "      <td>0</td>\n",
       "      <td>0.000000</td>\n",
       "      <td>April</td>\n",
       "    </tr>\n",
       "    <tr>\n",
       "      <th>3</th>\n",
       "      <td>RAJEN</td>\n",
       "      <td>South Coast</td>\n",
       "      <td>SAA-03</td>\n",
       "      <td>ABS KZN COMMERCIALIZATION</td>\n",
       "      <td>191513</td>\n",
       "      <td>191513.000000</td>\n",
       "      <td>12.162711</td>\n",
       "      <td>33951.97</td>\n",
       "      <td>33951.97</td>\n",
       "      <td>10.432702</td>\n",
       "      <td>0.17728284763958582</td>\n",
       "      <td>0.177283</td>\n",
       "      <td>April</td>\n",
       "    </tr>\n",
       "    <tr>\n",
       "      <th>4</th>\n",
       "      <td>RAJEN</td>\n",
       "      <td>Collection</td>\n",
       "      <td>ACE-01</td>\n",
       "      <td>ACE'S KITCHEN</td>\n",
       "      <td>7313</td>\n",
       "      <td>7313.000000</td>\n",
       "      <td>8.897409</td>\n",
       "      <td>1414.87</td>\n",
       "      <td>1414.87</td>\n",
       "      <td>7.254793</td>\n",
       "      <td>0.19347326678517707</td>\n",
       "      <td>0.193473</td>\n",
       "      <td>April</td>\n",
       "    </tr>\n",
       "  </tbody>\n",
       "</table>\n",
       "</div>"
      ],
      "text/plain": [
       "  Rep Code         Route Customer Code                          Customer Name  \\\n",
       "0    RAJEN    Collection        GND-01   GININDA CC T/A GND CATERING SERVICES   \n",
       "1    RAJEN  Richards Bay        SAA-04               121 SAI BN COMBINED CLUB   \n",
       "2    RAJEN         Local        THR-02   3 ON LUMSDEN (PTY) LTD (EMAKHOSINI )   \n",
       "3    RAJEN   South Coast        SAA-03              ABS KZN COMMERCIALIZATION   \n",
       "4    RAJEN    Collection        ACE-01                          ACE'S KITCHEN   \n",
       "\n",
       "   SalesX           Sale     Lgsale        GP       GPX      Loggp  \\\n",
       "0       0       2.718282   1.000000      1.00         0   0.000000   \n",
       "1   30311   30311.000000  10.319266   6988.63   6988.63   8.852040   \n",
       "2       0       2.718282   1.000000      1.00         -   0.000000   \n",
       "3  191513  191513.000000  12.162711  33951.97  33951.97  10.432702   \n",
       "4    7313    7313.000000   8.897409   1414.87   1414.87   7.254793   \n",
       "\n",
       "                 GppeX    Gpperc  Month  \n",
       "0                    -  0.000000  April  \n",
       "1   0.2305641516281218  0.230564  April  \n",
       "2                    0  0.000000  April  \n",
       "3  0.17728284763958582  0.177283  April  \n",
       "4  0.19347326678517707  0.193473  April  "
      ]
     },
     "execution_count": 9,
     "metadata": {},
     "output_type": "execute_result"
    }
   ],
   "source": [
    "df.head()"
   ]
  },
  {
   "cell_type": "code",
   "execution_count": 10,
   "metadata": {},
   "outputs": [],
   "source": [
    "def get_most_sales(df):\n",
    "    # Read CSV file into a pandas DataFrame\n",
    "  \n",
    "\n",
    "    # Get customer with most sales\n",
    "    customer = df.loc[df['Sale'].idxmax()]['Customer Name']\n",
    "\n",
    "    # Get route with most sales\n",
    "    route = df.loc[df['Sale'].idxmax()]['Route']\n",
    "\n",
    "    # Get month with most sales\n",
    "    month = df.loc[df['Sale'].idxmax()]['Month']\n",
    "\n",
    "    return customer, route, month\n"
   ]
  },
  {
   "cell_type": "code",
   "execution_count": 11,
   "metadata": {},
   "outputs": [
    {
     "data": {
      "text/plain": [
       "('ABS KZN COMMERCIALIZATION', 'South Coast', 'May')"
      ]
     },
     "execution_count": 11,
     "metadata": {},
     "output_type": "execute_result"
    }
   ],
   "source": [
    "get_most_sales(df)"
   ]
  },
  {
   "cell_type": "code",
   "execution_count": null,
   "metadata": {},
   "outputs": [],
   "source": []
  }
 ],
 "metadata": {
  "kernelspec": {
   "display_name": "Python 3",
   "language": "python",
   "name": "python3"
  },
  "language_info": {
   "codemirror_mode": {
    "name": "ipython",
    "version": 3
   },
   "file_extension": ".py",
   "mimetype": "text/x-python",
   "name": "python",
   "nbconvert_exporter": "python",
   "pygments_lexer": "ipython3",
   "version": "3.6.3"
  },
  "orig_nbformat": 4
 },
 "nbformat": 4,
 "nbformat_minor": 2
}
